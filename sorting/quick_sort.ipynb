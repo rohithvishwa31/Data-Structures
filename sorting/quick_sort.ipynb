{
 "cells": [
  {
   "cell_type": "code",
   "execution_count": 1,
   "id": "d9133c55",
   "metadata": {},
   "outputs": [],
   "source": [
    "def partition(arr, low, high):\n",
    "    #set rightmost element as pivot\n",
    "    pivot = arr[high]\n",
    "    i = low -1\n",
    "    \n",
    "    #iterate through elements and move lesser elements to the right\n",
    "    for j in range(low, high):\n",
    "        if arr[j] <= pivot:\n",
    "            i += 1\n",
    "            arr[i], arr[j] = arr[j], arr[i]\n",
    "    arr[i+1], arr[high] = arr[high], arr[i+1]\n",
    "    \n",
    "    return i+1"
   ]
  },
  {
   "cell_type": "code",
   "execution_count": 2,
   "id": "a50eb150",
   "metadata": {},
   "outputs": [],
   "source": [
    "def quick_sort(arr, low, high):\n",
    "    if low<high:\n",
    "        pivot = partition(arr, low, high)\n",
    "        \n",
    "        #do the same for left sublist and right sublist\n",
    "        quick_sort(arr, low, pivot-1)\n",
    "        quick_sort(arr, pivot+1, high)"
   ]
  },
  {
   "cell_type": "code",
   "execution_count": 3,
   "id": "ebb9a2bb",
   "metadata": {},
   "outputs": [
    {
     "name": "stdout",
     "output_type": "stream",
     "text": [
      "9 1 8 2 7 3 5 6 4\n",
      "Given array - 9 1 8 2 7 3 5 6 4 \n",
      "Sorted array - 1 2 3 4 5 6 7 8 9 "
     ]
    }
   ],
   "source": [
    "array = input().split(\" \")\n",
    "array = [int(x) for x in array]\n",
    "print(\"Given array - \", end = \"\")\n",
    "for x in array: print(str(x) + \" \", end = \"\")\n",
    "quick_sort(array, 0, len(array)-1)\n",
    "print(\"\\nSorted array - \", end = \"\")\n",
    "for x in array: print(str(x) + \" \", end = \"\")"
   ]
  }
 ],
 "metadata": {
  "kernelspec": {
   "display_name": "Python 3 (ipykernel)",
   "language": "python",
   "name": "python3"
  },
  "language_info": {
   "codemirror_mode": {
    "name": "ipython",
    "version": 3
   },
   "file_extension": ".py",
   "mimetype": "text/x-python",
   "name": "python",
   "nbconvert_exporter": "python",
   "pygments_lexer": "ipython3",
   "version": "3.9.7"
  }
 },
 "nbformat": 4,
 "nbformat_minor": 5
}
