{
 "cells": [
  {
   "cell_type": "code",
   "execution_count": 1,
   "id": "4152736b",
   "metadata": {},
   "outputs": [],
   "source": [
    "def selection_sort(unsorted_list):\n",
    "    for i in range(len(unsorted_list)):\n",
    "        min_index = i\n",
    "        \n",
    "        for j in range(i+1, len(unsorted_list)):\n",
    "            if unsorted_list[j] < unsorted_list[min_index]:\n",
    "                min_index = j\n",
    "        \n",
    "        unsorted_list[min_index], unsorted_list[i] = unsorted_list[i], unsorted_list[min_index]\n",
    "\n",
    "    return unsorted_list"
   ]
  },
  {
   "cell_type": "code",
   "execution_count": 2,
   "id": "2921f3ae",
   "metadata": {},
   "outputs": [
    {
     "name": "stdout",
     "output_type": "stream",
     "text": [
      "[0, 1, 2, 3, 5, 7, 8, 9]\n"
     ]
    }
   ],
   "source": [
    "unsorted_list = [2,8,5,0,1,3,7,9]\n",
    "\n",
    "sorted_list = selection_sort(unsorted_list)\n",
    "\n",
    "print(sorted_list)"
   ]
  }
 ],
 "metadata": {
  "kernelspec": {
   "display_name": "Python 3 (ipykernel)",
   "language": "python",
   "name": "python3"
  },
  "language_info": {
   "codemirror_mode": {
    "name": "ipython",
    "version": 3
   },
   "file_extension": ".py",
   "mimetype": "text/x-python",
   "name": "python",
   "nbconvert_exporter": "python",
   "pygments_lexer": "ipython3",
   "version": "3.9.7"
  }
 },
 "nbformat": 4,
 "nbformat_minor": 5
}
