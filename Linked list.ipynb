{
 "cells": [
  {
   "cell_type": "code",
   "execution_count": 1,
   "id": "b6a7573c",
   "metadata": {},
   "outputs": [],
   "source": [
    "#Linked list creation\n",
    "class Linkedlist:\n",
    "    def __init__(self):\n",
    "        self.head = None"
   ]
  },
  {
   "cell_type": "code",
   "execution_count": 2,
   "id": "ca17daae",
   "metadata": {},
   "outputs": [],
   "source": [
    "#Node creation\n",
    "class Node:\n",
    "    def __init__(self, data):\n",
    "        self.data = data\n",
    "        self.next = None"
   ]
  },
  {
   "cell_type": "code",
   "execution_count": 3,
   "id": "512e1554",
   "metadata": {},
   "outputs": [],
   "source": [
    "#Creating nodes\n",
    "e1 = Node(\"Sun\")\n",
    "e2 = Node(\"Mon\")\n",
    "e3 = Node(\"Tue\")\n",
    "e4 = Node(\"Wed\")"
   ]
  },
  {
   "cell_type": "code",
   "execution_count": 4,
   "id": "950aed9d",
   "metadata": {},
   "outputs": [],
   "source": [
    "#Linking nodes\n",
    "l_list = Linkedlist()\n",
    "l_list.head = e1\n",
    "\n",
    "e1.next = e2\n",
    "e2.next = e3\n",
    "e3.next = e4"
   ]
  },
  {
   "cell_type": "code",
   "execution_count": 5,
   "id": "c72b09f5",
   "metadata": {},
   "outputs": [
    {
     "name": "stdout",
     "output_type": "stream",
     "text": [
      "Sun\n",
      "Mon\n",
      "Tue\n",
      "Wed\n"
     ]
    }
   ],
   "source": [
    "#Printing a Linked list\n",
    "def Print_llist(Linkedlist):\n",
    "    current_node = Linkedlist.head\n",
    "    while current_node:\n",
    "        print(current_node.data)    \n",
    "        current_node = current_node.next\n",
    "\n",
    "Print_llist(l_list)"
   ]
  },
  {
   "cell_type": "code",
   "execution_count": 6,
   "id": "ad8158c5",
   "metadata": {},
   "outputs": [
    {
     "name": "stdout",
     "output_type": "stream",
     "text": [
      "Sat\n",
      "Sun\n",
      "Mon\n",
      "Tue\n",
      "Wed\n"
     ]
    }
   ],
   "source": [
    "#Inserting a new node in the beginning\n",
    "def insert_first(Linkedlist, Node):\n",
    "    if Linkedlist.head is None:\n",
    "        Linkedlist.head = Node\n",
    "    else:    \n",
    "        Node.next = Linkedlist.head\n",
    "        Linkedlist.head = Node\n",
    "    \n",
    "e5 = Node(\"Sat\")\n",
    "\n",
    "insert_first(l_list, e5)\n",
    "\n",
    "Print_llist(l_list)"
   ]
  },
  {
   "cell_type": "code",
   "execution_count": 7,
   "id": "0234f8b8",
   "metadata": {},
   "outputs": [
    {
     "name": "stdout",
     "output_type": "stream",
     "text": [
      "Sat\n",
      "Sun\n",
      "Mon\n",
      "Tue\n",
      "Wed\n",
      "Thu\n"
     ]
    }
   ],
   "source": [
    "#Inserting a new node in the last\n",
    "def insert_last(Linkedlist, data):\n",
    "    e_new = Node(data)\n",
    "    if Linkedlist.head is None:\n",
    "        Linkedlist.head = e_new\n",
    "        return\n",
    "    \n",
    "    current_node = Linkedlist.head\n",
    "    while current_node.next is not None:\n",
    "        current_node = current_node.next\n",
    "        \n",
    "    current_node.next = e_new\n",
    "\n",
    "insert_last(l_list, \"Thu\")\n",
    "\n",
    "Print_llist(l_list)"
   ]
  },
  {
   "cell_type": "code",
   "execution_count": 8,
   "id": "7652f2ec",
   "metadata": {},
   "outputs": [
    {
     "name": "stdout",
     "output_type": "stream",
     "text": [
      "Sat\n",
      "Sun\n",
      "Fri\n",
      "Mon\n",
      "Tue\n",
      "Wed\n",
      "Thu\n"
     ]
    }
   ],
   "source": [
    "#Inserting elements between two nodes(after a node)\n",
    "def insert_after(Linkedlist, target_data, data):\n",
    "    new_node = Node(data)\n",
    "    current_node = Linkedlist.head\n",
    "    while current_node.next is not None:\n",
    "        if target_data == current_node.data:\n",
    "            new_node.next = current_node.next\n",
    "            current_node.next = new_node\n",
    "            break\n",
    "        current_node = current_node.next\n",
    "    if target_data == current_node.data:\n",
    "            current_node.next = new_node\n",
    "\n",
    "insert_after(l_list, \"Sun\", \"Fri\")\n",
    "Print_llist(l_list)"
   ]
  },
  {
   "cell_type": "code",
   "execution_count": 9,
   "id": "fa01df2a",
   "metadata": {},
   "outputs": [
    {
     "name": "stdout",
     "output_type": "stream",
     "text": [
      "Sat\n",
      "Sun\n",
      "mar\n",
      "Fri\n",
      "Mon\n",
      "Tue\n",
      "Wed\n",
      "Thu\n"
     ]
    }
   ],
   "source": [
    "#Inserting elements between two nodes(before a node)\n",
    "def insert_before(Linkedlist, target_data, data):\n",
    "    new_node = Node(data)\n",
    "    current_node = Linkedlist.head\n",
    "    while current_node.next is not None:\n",
    "        if target_data == current_node.next.data:\n",
    "            new_node.next = current_node.next\n",
    "            current_node.next = new_node\n",
    "            break\n",
    "        current_node = current_node.next\n",
    "\n",
    "insert_before(l_list, \"Fri\", \"mar\")\n",
    "Print_llist(l_list)"
   ]
  },
  {
   "cell_type": "code",
   "execution_count": 10,
   "id": "4a4a0c03",
   "metadata": {},
   "outputs": [
    {
     "name": "stdout",
     "output_type": "stream",
     "text": [
      "Sat\n",
      "Sun\n",
      "Dec\n",
      "mar\n",
      "Fri\n",
      "Mon\n",
      "Tue\n",
      "Wed\n",
      "Thu\n"
     ]
    }
   ],
   "source": [
    "#Inserting elements between two nodes(position)\n",
    "def insert_at_position(Linkedlist, position, data):\n",
    "    new_node = Node(data)\n",
    "    current_node = Linkedlist.head\n",
    "    i=1\n",
    "    while current_node.next is not None and i<position:\n",
    "        if i==position-1:\n",
    "            new_node.next = current_node.next\n",
    "            current_node.next = new_node\n",
    "            break\n",
    "        current_node = current_node.next\n",
    "        i+=1\n",
    "insert_at_position(l_list, 3, \"Dec\")\n",
    "Print_llist(l_list)"
   ]
  },
  {
   "cell_type": "code",
   "execution_count": 12,
   "id": "c5efcea9",
   "metadata": {},
   "outputs": [
    {
     "name": "stdout",
     "output_type": "stream",
     "text": [
      "Fri\n"
     ]
    }
   ],
   "source": [
    "#Finding data of predecessor node with provided data\n",
    "def find_previous(Linkedlist, data):\n",
    "    current_node = Linkedlist.head\n",
    "    while current_node.next is not None:\n",
    "        if current_node.next.data == data:\n",
    "            return current_node.data\n",
    "        current_node = current_node.next\n",
    "\n",
    "result = find_previous(l_list, \"Mon\") \n",
    "print(result)"
   ]
  },
  {
   "cell_type": "code",
   "execution_count": null,
   "id": "b3a79096",
   "metadata": {},
   "outputs": [],
   "source": []
  }
 ],
 "metadata": {
  "kernelspec": {
   "display_name": "Python 3 (ipykernel)",
   "language": "python",
   "name": "python3"
  },
  "language_info": {
   "codemirror_mode": {
    "name": "ipython",
    "version": 3
   },
   "file_extension": ".py",
   "mimetype": "text/x-python",
   "name": "python",
   "nbconvert_exporter": "python",
   "pygments_lexer": "ipython3",
   "version": "3.9.7"
  }
 },
 "nbformat": 4,
 "nbformat_minor": 5
}
